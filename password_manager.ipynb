{
  "nbformat": 4,
  "nbformat_minor": 0,
  "metadata": {
    "colab": {
      "provenance": []
    },
    "kernelspec": {
      "name": "python3",
      "display_name": "Python 3"
    },
    "language_info": {
      "name": "python"
    }
  },
  "cells": [
    {
      "cell_type": "code",
      "execution_count": null,
      "metadata": {
        "colab": {
          "base_uri": "https://localhost:8080/"
        },
        "id": "0Cknd5O2VDCk",
        "outputId": "01dad078-e8d7-4d43-e7b3-56bf1d555a82"
      },
      "outputs": [
        {
          "name": "stdout",
          "output_type": "stream",
          "text": [
            "what is the master password:123\n",
            "would you like to add or view password(add/view/q)add\n",
            "Account name:manu\n",
            "Password:12345\n",
            "would you like to add or view password(add/view/q)q\n"
          ]
        }
      ],
      "source": [
        "from cryptography.fernet import Fernet\n",
        "def write_key():\n",
        "     key =Fernet.generate_key()\n",
        "     with open(\"key.key\",\"wb\") as key_file:\n",
        "         key_file.write(key)\n",
        "write_key()\n",
        "def load_key():\n",
        "  file=open(\"key.key\",\"rb\")\n",
        "  key=file.read()\n",
        "  file.close()\n",
        "  return key\n",
        "\n",
        "\n",
        "master_pwd=input(\"what is the master password:\")\n",
        "if master_pwd==\"123\":\n",
        "\n",
        "  key=load_key()+master_pwd.encode()\n",
        "  fer=Fernet(key)\n",
        "\n",
        "  def view():\n",
        "    with open(\"password.txt\", \"r\") as f:\n",
        "        for line in f.readlines():\n",
        "            data = line.rstrip()\n",
        "            user, passw = data.split(\"|\")\n",
        "            decrypted_passw = fer.decrypt(passw.encode()).decode()\n",
        "            print(\"Account:\", user, \"| Password:\", decrypted_passw)\n",
        "\n",
        "\n",
        "  def add():\n",
        "      name=input(\"Account name:\")\n",
        "      pwd=input(\"Password:\")\n",
        "\n",
        "      with open(\"password.txt\",\"a\") as f:\n",
        "          f.write(name+\"|\"+fer.encrypt(pwd.encode()).decode()+\"\\n\")\n",
        "\n",
        "  while True:\n",
        "      mode=input(\"would you like to add or view password(add/view/q)\")\n",
        "      if mode==\"q\":\n",
        "          break\n",
        "      elif mode==\"view\":\n",
        "          view()\n",
        "      elif mode==\"add\":\n",
        "          add()\n",
        "      else:\n",
        "          print(\"invalid mode\")\n",
        "else:\n",
        "  print(\"wrong password\")"
      ]
    },
    {
      "cell_type": "code",
      "source": [],
      "metadata": {
        "id": "n1xkihksDsfZ"
      },
      "execution_count": null,
      "outputs": []
    }
  ]
}